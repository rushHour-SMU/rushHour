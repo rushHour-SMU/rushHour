{
 "cells": [
  {
   "cell_type": "code",
   "execution_count": null,
   "metadata": {},
   "outputs": [],
   "source": [
    "import random\n",
    "\n",
    "\n",
    "class RandomAgent:\n",
    "    def __init__(self, action_space):\n",
    "        self.action_space = action_space\n",
    "\n",
    "    def select_action(self):\n",
    "        \"\"\"랜덤한 행동 선택\"\"\"\n",
    "        return self.action_space.sample()\n"
   ]
  },
  {
   "cell_type": "markdown",
   "metadata": {},
   "source": [
    "# RandomAgent\n",
    "\n",
    "---\n",
    "\n",
    "## 주요 기능\n",
    "- **무작위 행동 선택**:\n",
    "  - 주어진 행동 공간(`action_space`)에서 임의의 행동을 샘플링하여 반환합니다.\n",
    "---\n",
    "\n",
    "## 클래스 메서드\n",
    "\n",
    "### `__init__(self, action_space)`\n",
    "- **설명**:\n",
    "  - 에이전트를 초기화하며, 행동 공간을 설정합니다.\n",
    "- **파라미터**:\n",
    "  - `action_space`: 에이전트가 선택할 수 있는 행동의 범위를 정의하는 객체. 일반적으로 `gym.spaces`에서 제공하는 `Discrete` 또는 `Box` 타입.\n",
    "\n",
    "---\n",
    "\n",
    "### `select_action(self)`\n",
    "- **설명**:\n",
    "  - 주어진 행동 공간에서 무작위로 행동을 선택합니다.\n",
    "- **반환값**:\n",
    "  - 행동 공간에서 무작위로 샘플링된 행동 값.\n"
   ]
  }
 ],
 "metadata": {
  "language_info": {
   "name": "python"
  }
 },
 "nbformat": 4,
 "nbformat_minor": 2
}
