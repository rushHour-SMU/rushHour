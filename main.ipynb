{
 "cells": [
  {
   "cell_type": "code",
   "execution_count": null,
   "metadata": {},
   "outputs": [],
   "source": [
    "env = RushHourEnv(vehicle_data)\n",
    "\n",
    "# Independent DQN 에이전트 생성\n",
    "state_size = env.grid_size[0]\n",
    "action_size = env.action_space.nvec[1]\n",
    "agents = [DQNAgent(state_size, action_size) for _ in range(len(vehicle_data))]\n",
    "\n",
    "# Independent DQN 에이전트 생성\n",
    "state_size = env.grid_size[0]\n",
    "action_size = env.action_space.nvec[1]\n",
    "agents = [DQNAgent(state_size, action_size) for _ in range(len(vehicle_data))]\n",
    "\n",
    "episode_steps = []\n",
    "episode_rewards = []\n",
    "successful_episodes = 0\n",
    "num_episodes = 1000\n",
    "for episode in range(num_episodes):\n",
    "    state = env.reset()\n",
    "    done = False\n",
    "    total_reward = 0\n",
    "    steps = 0\n",
    "\n",
    "    while not done:\n",
    "        actions = []\n",
    "        for i, agent in enumerate(agents):\n",
    "            action = agent.select_action(state)\n",
    "            actions.append((i, action))\n",
    "\n",
    "        # 환경에서 행동 수행\n",
    "        next_state, reward, done, _ = env.step(actions)\n",
    "        total_reward += reward\n",
    "        steps += 1\n",
    "\n",
    "        # 각 에이전트 경험 저장\n",
    "        for i, agent in enumerate(agents):\n",
    "            agent.store_experience(state, actions[i][1], reward, next_state, done)\n",
    "\n",
    "        # 각 에이전트 학습\n",
    "        for agent in agents:\n",
    "            agent.train()\n",
    "\n",
    "        state = next_state\n",
    "\n",
    "    # Epsilon 감소\n",
    "    for agent in agents:\n",
    "        agent.decay_epsilon()\n",
    "\n",
    "    # Track steps and rewards\n",
    "    episode_steps.append(steps)\n",
    "    episode_rewards.append(total_reward)\n",
    "\n",
    "    # Count if the target vehicle reached the exit\n",
    "    target_front_position = env.target_vehicle.get_positions()[-1]\n",
    "    if target_front_position == (env.exit_wall[0], env.exit_wall[1] - 1):\n",
    "        successful_episodes += 1\n",
    "\n",
    "    print(f\"Episode {episode + 1}/{num_episodes}, Total Reward: {total_reward}\")"
   ]
  },
  {
   "cell_type": "markdown",
   "metadata": {},
   "source": []
  }
 ],
 "metadata": {
  "kernelspec": {
   "display_name": "Python 3",
   "language": "python",
   "name": "python3"
  },
  "language_info": {
   "codemirror_mode": {
    "name": "ipython",
    "version": 3
   },
   "file_extension": ".py",
   "mimetype": "text/x-python",
   "name": "python",
   "nbconvert_exporter": "python",
   "pygments_lexer": "ipython3",
   "version": "3.11.5"
  }
 },
 "nbformat": 4,
 "nbformat_minor": 2
}
