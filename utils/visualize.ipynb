{
 "cells": [
  {
   "cell_type": "code",
   "execution_count": null,
   "metadata": {},
   "outputs": [],
   "source": [
    "import matplotlib.pyplot as plt\n",
    "\n",
    "def plot_rewards_and_steps(num_episodes, episode_steps, episode_rewards, steps_label='Steps per Episode', rewards_label='Total Reward per Episode', steps_color='blue', rewards_color='orange'):\n",
    "    \n",
    "    plt.figure(figsize=(12, 6))\n",
    "    \n",
    "    # Plotting steps per episode\n",
    "    plt.subplot(1, 2, 1)\n",
    "    plt.plot(range(1, num_episodes + 1), episode_steps, label=steps_label, color=steps_color)\n",
    "    plt.xlabel('Episode')\n",
    "    plt.ylabel('Steps')\n",
    "    plt.title('Steps per Episode')\n",
    "    plt.grid(True)\n",
    "\n",
    "    # Plotting rewards per episode\n",
    "    plt.subplot(1, 2, 2)\n",
    "    plt.plot(range(1, num_episodes + 1), episode_rewards, label=rewards_label, color=rewards_color)\n",
    "    plt.xlabel('Episode')\n",
    "    plt.ylabel('Reward')\n",
    "    plt.title('Total Reward per Episode')\n",
    "    plt.grid(True)\n",
    "\n",
    "    plt.tight_layout()\n",
    "    plt.show()"
   ]
  },
  {
   "cell_type": "markdown",
   "metadata": {},
   "source": [
    "# 학습 결과 시각화 함수\n",
    "\n",
    "## 함수 개요\n",
    "`plot_training_results` 함수는 강화 학습 에이전트의 학습 결과를 시각화하기 위해 설계되었습니다. 이 함수는 학습 과정 동안 각 에피소드별로 수행된 스텝 수와 획득한 총 보상을 나타내는 이중 패널 그래프를 생성합니다.\n",
    "\n",
    "## 매개변수\n",
    "- `num_episodes` (int): 총 학습 에피소드 수입니다.\n",
    "- `episode_steps` (list): 각 에피소드별 수행된 스텝 수를 담은 리스트입니다.\n",
    "- `episode_rewards` (list): 각 에피소드에서 획득한 총 보상을 담은 리스트입니다.\n",
    "- `steps_label` (str, optional): 스텝 그래프의 라벨, 기본값은 'Steps per Episode'입니다.\n",
    "- `rewards_label` (str, optional): 보상 그래프의 라벨, 기본값은 'Total Reward per Episode'입니다.\n",
    "- `steps_color` (str, optional): 스텝 그래프의 색상, 기본값은 'blue'입니다.\n",
    "- `rewards_color` (str, optional): 보상 그래프의 색상, 기본값은 'orange'입니다.\n",
    "\n",
    "## 생성되는 시각 자료\n",
    "1. **에피소드별 스텝 수**: 에이전트가 각 에피소드에서 수행한 스텝 수의 진행 상황을 보여주는 선형 그래프입니다.\n",
    "2. **에피소드별 총 보상**: 에이전트가 각 에피소드에서 획득한 총 보상을 나타내는 선형 그래프입니다."
   ]
  }
 ],
 "metadata": {
  "language_info": {
   "name": "python"
  }
 },
 "nbformat": 4,
 "nbformat_minor": 2
}
